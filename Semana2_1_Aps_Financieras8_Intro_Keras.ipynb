{
  "nbformat": 4,
  "nbformat_minor": 0,
  "metadata": {
    "colab": {
      "provenance": [],
      "include_colab_link": true
    },
    "kernelspec": {
      "name": "python3",
      "display_name": "Python 3"
    },
    "language_info": {
      "name": "python"
    }
  },
  "cells": [
    {
      "cell_type": "markdown",
      "metadata": {
        "id": "view-in-github",
        "colab_type": "text"
      },
      "source": [
        "<a href=\"https://colab.research.google.com/github/omaralvaradobaubap/Aplicaciones-Financieras/blob/main/Semana2_1_Aps_Financieras8_Intro_Keras.ipynb\" target=\"_parent\"><img src=\"https://colab.research.google.com/assets/colab-badge.svg\" alt=\"Open In Colab\"/></a>"
      ]
    },
    {
      "cell_type": "markdown",
      "source": [
        "[![Open In Colab](https://colab.research.google.com/assets/colab-badge.svg)](https://colab.research.google.com/github/MaxMitre/Aplicaciones-Financieras/blob/main/Semana2/1_Intro_Keras.ipynb)"
      ],
      "metadata": {
        "id": "7349NUkNQQWW"
      }
    },
    {
      "cell_type": "markdown",
      "source": [
        "# Problema\n",
        "\n",
        "Esta semana utilizaremos el mismo DataSet para ambas sesiones. Ésta primera sesión será para analizar un problema de fraude de modo sencillo, es decir, con un clasificador binario sencillo (que nos servirá para introducir algunas herramientas).\n",
        "\n",
        "Podemos encontrar la base de datos en https://www.kaggle.com/datasets/mlg-ulb/creditcardfraud\n",
        "\n",
        "Los datos contienen transacciones realizadas mediante trarjeta de crédito en Septiembre del 2013 por titulares de tarjeta en Europa. Ocurrieron en 2 días en los que hubo 492 fraudes de 284,807 transacciones.\n",
        "\n",
        "Solo contiene variables numéricas y ya pasó por un proceso de PCA para solo quedarse con las mejores características.\n",
        "\n",
        "La columna de \"Time\" contiene los segundos ocurridos entre transacciones. \"Amount\" es la cantidad de la transacción y \"Class\" es la variable que tiene 1 en caso de fraude y 0 en caso contrario."
      ],
      "metadata": {
        "id": "uudpvvkIIXwm"
      }
    },
    {
      "cell_type": "code",
      "source": [
        "from google.colab import drive\n",
        "drive.mount('/content/drive')"
      ],
      "metadata": {
        "id": "aYYkRFOwE9HG"
      },
      "execution_count": null,
      "outputs": []
    },
    {
      "cell_type": "markdown",
      "source": [
        "# Leer Datos usando un método distinto al que estamos acostumbrados"
      ],
      "metadata": {
        "id": "Lk9av5KKHYgC"
      }
    },
    {
      "cell_type": "code",
      "execution_count": null,
      "metadata": {
        "id": "EQUuvtmbEqpK"
      },
      "outputs": [],
      "source": [
        "import numpy as np\n",
        "\n",
        "# Datos disponibles en https://www.kaggle.com/mlg-ulb/creditcardfraud/\n",
        "\n",
        "all_features = []\n",
        "all_targets = []\n",
        "with open('/content/drive/MyDrive/Cruso-ApsFinancieras/semana3/creditcard.csv') as f:\n",
        "    for i, line in enumerate(f):\n",
        "        if i == 0:\n",
        "            print(\"HEADER:\", line.strip())\n",
        "            continue  # Skip header\n",
        "        fields = line.strip().split(\",\")\n",
        "        all_features.append([float(v.replace('\"', \"\")) for v in fields[:-1]])\n",
        "        all_targets.append([int(fields[-1].replace('\"', \"\"))])\n",
        "        if i == 1:\n",
        "            print(\"EJEMPLO DE CARACTERÍSTICAS:\", all_features[-1])\n",
        "\n",
        "features = np.array(all_features, dtype=\"float32\")\n",
        "targets = np.array(all_targets, dtype=\"uint8\")\n",
        "print(\"features.shape:\", features.shape)\n",
        "print(\"targets.shape:\", targets.shape)"
      ]
    },
    {
      "cell_type": "code",
      "source": [
        "features"
      ],
      "metadata": {
        "id": "HVYzBROntrT8"
      },
      "execution_count": null,
      "outputs": []
    },
    {
      "cell_type": "code",
      "source": [
        "features.shape"
      ],
      "metadata": {
        "id": "bYrTKILaP4cH"
      },
      "execution_count": null,
      "outputs": []
    },
    {
      "cell_type": "code",
      "source": [
        "targets.shape"
      ],
      "metadata": {
        "id": "D7Yb5YfsP_tC"
      },
      "execution_count": null,
      "outputs": []
    },
    {
      "cell_type": "code",
      "source": [
        "import pandas as pd\n",
        "\n",
        "en_dataframe = pd.read_csv('/content/drive/MyDrive/Cruso-ApsFinancieras/semana3/creditcard.csv')"
      ],
      "metadata": {
        "id": "FQ6OYI_RRu7F"
      },
      "execution_count": null,
      "outputs": []
    },
    {
      "cell_type": "code",
      "source": [
        "en_dataframe"
      ],
      "metadata": {
        "id": "hhkH6A1exRcf"
      },
      "execution_count": null,
      "outputs": []
    },
    {
      "cell_type": "code",
      "source": [
        "features2 = np.array(en_dataframe.iloc[:, :-1])\n",
        "targets2 = np.array(en_dataframe.iloc[:,-1])"
      ],
      "metadata": {
        "id": "_yDZ1O9PSOGt"
      },
      "execution_count": null,
      "outputs": []
    },
    {
      "cell_type": "code",
      "source": [
        "features2"
      ],
      "metadata": {
        "id": "6D3TlUvZt20X"
      },
      "execution_count": null,
      "outputs": []
    },
    {
      "cell_type": "code",
      "source": [
        "np.allclose(features, features2, rtol=0.0000001)"
      ],
      "metadata": {
        "id": "mXJEP3BVS0nK"
      },
      "execution_count": null,
      "outputs": []
    },
    {
      "cell_type": "code",
      "source": [
        "targets2.shape"
      ],
      "metadata": {
        "id": "ALdzmdzkQffm"
      },
      "execution_count": null,
      "outputs": []
    },
    {
      "cell_type": "code",
      "source": [
        "targets.shape"
      ],
      "metadata": {
        "id": "K-NhrVZuQnEu"
      },
      "execution_count": null,
      "outputs": []
    },
    {
      "cell_type": "code",
      "source": [
        "targets"
      ],
      "metadata": {
        "id": "vgrDJ1dPQobP"
      },
      "execution_count": null,
      "outputs": []
    },
    {
      "cell_type": "code",
      "source": [
        "targets2"
      ],
      "metadata": {
        "id": "V6UUCmUDQoTs"
      },
      "execution_count": null,
      "outputs": []
    },
    {
      "cell_type": "markdown",
      "source": [
        "## Cuidado con las dimensiones, pueden crear problemas extraños\n",
        "\n",
        "Rompemos la RAM, solo para mostrar cosas que pueden fallar, despues no ejecutaremos esta linea"
      ],
      "metadata": {
        "id": "wDyHjQyiatJh"
      }
    },
    {
      "cell_type": "code",
      "source": [
        "# Si está descomentada, supera nuestra RAM disponible\n",
        "#np.allclose(targets, targets2)"
      ],
      "metadata": {
        "id": "IPL463L8akIu"
      },
      "execution_count": null,
      "outputs": []
    },
    {
      "cell_type": "code",
      "source": [
        "# Esta variable casi llena nuestra RAM, la borraremos abajo\n",
        "aux = (targets[:100000] == targets2[:100000])"
      ],
      "metadata": {
        "id": "1MePrUupTkmq"
      },
      "execution_count": null,
      "outputs": []
    },
    {
      "cell_type": "code",
      "source": [
        "targets"
      ],
      "metadata": {
        "id": "TdOhfYOMuTsf"
      },
      "execution_count": null,
      "outputs": []
    },
    {
      "cell_type": "code",
      "source": [
        "targets2"
      ],
      "metadata": {
        "id": "0ZSAvIGOua7C"
      },
      "execution_count": null,
      "outputs": []
    },
    {
      "cell_type": "code",
      "source": [
        "aux"
      ],
      "metadata": {
        "id": "YWGdxv4Puhsd"
      },
      "execution_count": null,
      "outputs": []
    },
    {
      "cell_type": "code",
      "source": [
        "aux.shape"
      ],
      "metadata": {
        "id": "arH09wX8agPl"
      },
      "execution_count": null,
      "outputs": []
    },
    {
      "cell_type": "code",
      "source": [
        "del aux"
      ],
      "metadata": {
        "id": "Bcg42dsHaWyG"
      },
      "execution_count": null,
      "outputs": []
    },
    {
      "cell_type": "markdown",
      "source": [
        "# Corrección\n",
        "\n",
        "La manera correcta para poder llevar a cabo esta comparación es cuidando las dimensiones de los objetos que estamos comparando"
      ],
      "metadata": {
        "id": "Xx4odlCpi2jS"
      }
    },
    {
      "cell_type": "code",
      "source": [
        "targets.shape"
      ],
      "metadata": {
        "id": "Yy_JLStyymJD"
      },
      "execution_count": null,
      "outputs": []
    },
    {
      "cell_type": "code",
      "source": [
        "targets2.shape"
      ],
      "metadata": {
        "id": "IvDbovUiyn7q"
      },
      "execution_count": null,
      "outputs": []
    },
    {
      "cell_type": "code",
      "source": [
        "features2 = np.array(en_dataframe.iloc[:, :-1])\n",
        "targets2 = np.array(en_dataframe.iloc[:,-1]).reshape(-1, 1)  # Cambio aqui"
      ],
      "metadata": {
        "id": "sxV440Coi_gD"
      },
      "execution_count": null,
      "outputs": []
    },
    {
      "cell_type": "code",
      "source": [
        "np.allclose(targets, targets2, rtol=1e-05)"
      ],
      "metadata": {
        "id": "G9GdBgCmjFt0"
      },
      "execution_count": null,
      "outputs": []
    },
    {
      "cell_type": "code",
      "source": [
        "print(targets.shape)\n",
        "print(targets2.shape)"
      ],
      "metadata": {
        "id": "zRIEaxKN6_nD"
      },
      "execution_count": null,
      "outputs": []
    },
    {
      "cell_type": "markdown",
      "source": [
        "# Preparar conjunto de validación\n",
        "\n",
        "Lo haremos manual (es decir, no aleatorio)"
      ],
      "metadata": {
        "id": "q9fjnHFwHd-t"
      }
    },
    {
      "cell_type": "code",
      "source": [
        "features, targets"
      ],
      "metadata": {
        "id": "_73byEKLRyCZ"
      },
      "execution_count": null,
      "outputs": []
    },
    {
      "cell_type": "code",
      "source": [
        "num_val_samples = int(len(features) * 0.2)\n",
        "num_val_samples"
      ],
      "metadata": {
        "id": "Bx8eoOy4vcMH"
      },
      "execution_count": null,
      "outputs": []
    },
    {
      "cell_type": "code",
      "source": [
        "num_val_samples = int(len(features) * 0.2)\n",
        "\n",
        "# 80% datos para entrenamiento\n",
        "train_features = features[:-num_val_samples]\n",
        "train_targets = targets[:-num_val_samples]\n",
        "\n",
        "# 20% de datos para test\n",
        "val_features = features[-num_val_samples:]\n",
        "val_targets = targets[-num_val_samples:]\n",
        "\n",
        "print(\"Número de muestras para entrenamiento:\", len(train_features))\n",
        "print(\"Número de muestras para validación:\", len(val_features))"
      ],
      "metadata": {
        "id": "OmgJqltqHS1Q"
      },
      "execution_count": null,
      "outputs": []
    },
    {
      "cell_type": "code",
      "source": [
        "num_val_samples"
      ],
      "metadata": {
        "id": "IjbLCEs9-Gbq"
      },
      "execution_count": null,
      "outputs": []
    },
    {
      "cell_type": "markdown",
      "source": [
        "# Analizar desbalance de los datos"
      ],
      "metadata": {
        "id": "YNybjc6VH4Lh"
      }
    },
    {
      "cell_type": "code",
      "source": [
        "counts = np.bincount(train_targets[:, 0])\n",
        "print(f\"Número de valores 1 en muestra de entrenamiento: {counts[1]} ({100 * float(counts[1]) / len(train_targets):.2f}% of total)\")"
      ],
      "metadata": {
        "id": "Oj6xVYvHHUfs"
      },
      "execution_count": null,
      "outputs": []
    },
    {
      "cell_type": "markdown",
      "source": [
        "Asignaremos pesos de una manera balanceada (es una clase de peso \"balanced\" utilizada en keras). Manualmente se calcula como:"
      ],
      "metadata": {
        "id": "uMNmSSg7RKaN"
      }
    },
    {
      "cell_type": "code",
      "source": [
        "total_counts = np.bincount(train_targets[:, 0])\n",
        "n_samples = len(train_targets)\n",
        "\n",
        "weight_for_0 = n_samples / (total_counts[0]*2)\n",
        "weight_for_1 = n_samples / (total_counts[1]*2)\n",
        "\n",
        "#counts = np.bincount(train_targets[:, 0])\n",
        "\n",
        "#weight_for_0 = 1.0 / counts[0]\n",
        "#weight_for_1 = 1.0 / counts[1]\n",
        "\n",
        "print(f\"{weight_for_0: .6f}\")\n",
        "print(f\"{weight_for_1: .4f}\")"
      ],
      "metadata": {
        "id": "LVxboEzLP0qU"
      },
      "execution_count": null,
      "outputs": []
    },
    {
      "cell_type": "markdown",
      "source": [
        "Podemos ver que los pesos son practicamente una proporción de 500 a 1 aproximadamente"
      ],
      "metadata": {
        "id": "gB61dh8ITMUG"
      }
    },
    {
      "cell_type": "markdown",
      "source": [
        "# Estandarizar los datos"
      ],
      "metadata": {
        "id": "ChgxpOOuIB_V"
      }
    },
    {
      "cell_type": "code",
      "source": [
        "mean = np.mean(train_features, axis=0)\n",
        "train_features -= mean\n",
        "val_features -= mean\n",
        "std = np.std(train_features, axis=0)\n",
        "train_features /= std\n",
        "val_features /= std"
      ],
      "metadata": {
        "id": "_vnuRhp5HUdi"
      },
      "execution_count": null,
      "outputs": []
    },
    {
      "cell_type": "code",
      "source": [
        "df_chiquito = np.array([[1,2,3,4], [4,5,6,7], [7,8,9,10]])\n",
        "df_chiquito"
      ],
      "metadata": {
        "id": "HfByQ9kpUQ59"
      },
      "execution_count": null,
      "outputs": []
    },
    {
      "cell_type": "code",
      "source": [
        "np.mean(df_chiquito, axis=1)"
      ],
      "metadata": {
        "id": "-sI40ezpULWk"
      },
      "execution_count": null,
      "outputs": []
    },
    {
      "cell_type": "markdown",
      "source": [
        "# Modelo de clasificación binaria"
      ],
      "metadata": {
        "id": "BrhhaIPuIGKD"
      }
    },
    {
      "cell_type": "markdown",
      "source": [
        "## Slicing para arrays"
      ],
      "metadata": {
        "id": "xyPAgA0rSagz"
      }
    },
    {
      "cell_type": "code",
      "source": [
        "arreglo = np.array([[1,2,3], [4,5,6], [5,6,7], [7,8,9]])\n",
        "arreglo"
      ],
      "metadata": {
        "id": "D6F5_y8pDY3r"
      },
      "execution_count": null,
      "outputs": []
    },
    {
      "cell_type": "code",
      "source": [
        "arreglo[:, 1:]"
      ],
      "metadata": {
        "id": "X2kSTIvzDHPz"
      },
      "execution_count": null,
      "outputs": []
    },
    {
      "cell_type": "code",
      "source": [
        "# Removemos la columnas correspondiente a tiempo\n",
        "train_features = train_features[:, 1:]\n",
        "val_features = val_features[:, 1:]"
      ],
      "metadata": {
        "id": "whfjNZTZDpW2"
      },
      "execution_count": null,
      "outputs": []
    },
    {
      "cell_type": "code",
      "source": [
        "train_features.shape"
      ],
      "metadata": {
        "id": "otQUgpD4aHyV"
      },
      "execution_count": null,
      "outputs": []
    },
    {
      "cell_type": "code",
      "source": [
        "train_features.shape[-1]"
      ],
      "metadata": {
        "id": "CBftGY9gaAFa"
      },
      "execution_count": null,
      "outputs": []
    },
    {
      "cell_type": "code",
      "source": [
        "from tensorflow import keras\n",
        "import tensorflow as tf\n",
        "\n",
        "model = keras.Sequential(\n",
        "    [\n",
        "        keras.layers.Dense(256, activation=\"relu\", input_shape=(train_features.shape[-1],)),\n",
        "        keras.layers.Dense(256, activation=\"relu\"),\n",
        "        keras.layers.Dropout(0.3), ###\n",
        "        keras.layers.Dense(256, activation=\"relu\"),\n",
        "        keras.layers.Dropout(0.3), ###\n",
        "        keras.layers.Dense(1, activation=\"sigmoid\"),\n",
        "    ]\n",
        ")\n",
        "model.summary()"
      ],
      "metadata": {
        "id": "c7TZxGnwHUbN"
      },
      "execution_count": null,
      "outputs": []
    },
    {
      "cell_type": "markdown",
      "source": [
        "# Entrenar modelo tomando en cuenta pesos para los datos\n"
      ],
      "metadata": {
        "id": "8iUdg7wmIIRA"
      }
    },
    {
      "cell_type": "code",
      "source": [
        "metrics = [\n",
        "    keras.metrics.FalseNegatives(name=\"fn\"),\n",
        "    keras.metrics.FalsePositives(name=\"fp\"),\n",
        "    keras.metrics.TrueNegatives(name=\"tn\"),\n",
        "    keras.metrics.TruePositives(name=\"tp\"),\n",
        "    keras.metrics.Precision(name=\"precision\"),\n",
        "    keras.metrics.Recall(name=\"recall\"),\n",
        "]\n",
        "\n",
        "model.compile(\n",
        "    optimizer=keras.optimizers.Adam(0.01), loss=\"binary_crossentropy\", metrics=metrics # El 0.01 es llamado \"learning rate\"\n",
        ")\n",
        "\n",
        "# Para poder guardar info del entranamiento\n",
        "callbacks = [keras.callbacks.ModelCheckpoint(\"fraud_model_at_epoch_{epoch}.h5\")]\n",
        "\n",
        "# Utilizada para asignar pesos que \"balanceen\" las clases\n",
        "class_weight = {0: weight_for_0, 1: weight_for_1}\n",
        "\n",
        "history = model.fit(\n",
        "    train_features,\n",
        "    train_targets,\n",
        "    batch_size=2048, # Cantidad de datos que optimizan pesos por cada pasada, \"batch size\"\n",
        "    epochs=30, # Cantidad de pasadas que dan todos los datos, para entrenamiento\n",
        "    verbose=2,\n",
        "    callbacks=callbacks,\n",
        "    validation_data=(val_features, val_targets), # Solo para medir como va avanzando el modelo, no utiliza estos datos para modificar pesos\n",
        "    class_weight=class_weight,\n",
        ")"
      ],
      "metadata": {
        "id": "ohsmPpHnHUZH"
      },
      "execution_count": null,
      "outputs": []
    },
    {
      "cell_type": "code",
      "source": [
        "import plotly.graph_objects as go\n",
        "import plotly.express as px\n",
        "import plotly.io as pio"
      ],
      "metadata": {
        "id": "voZSEUuseBrn"
      },
      "execution_count": null,
      "outputs": []
    },
    {
      "cell_type": "code",
      "source": [
        "fig = go.Figure()\n",
        "fig.add_trace(go.Scatter(y = history.history['loss'], name = 'loss'))\n",
        "fig.add_trace(go.Scatter(y = history.history['val_loss'], name = 'val_loss'))\n",
        "fig.update_layout(\n",
        "    title = 'Pérdida del modelo (con capas de Dropout)',\n",
        "    xaxis_title = 'Época (epoch)',\n",
        "    yaxis_title = 'Pérdida (MSE)'\n",
        ")\n",
        "fig.show()"
      ],
      "metadata": {
        "id": "-47bedF_dGpF"
      },
      "execution_count": null,
      "outputs": []
    },
    {
      "cell_type": "code",
      "source": [
        "from tensorflow import keras\n",
        "import tensorflow as tf\n",
        "\n",
        "model = keras.Sequential(\n",
        "    [\n",
        "        keras.layers.Dense(256, activation=\"relu\", input_shape=(train_features.shape[-1],)),\n",
        "        keras.layers.Dense(256, activation=\"relu\"),\n",
        "        #keras.layers.Dropout(0.3), ###\n",
        "        keras.layers.Dense(256, activation=\"relu\"),\n",
        "        #keras.layers.Dropout(0.3), ###\n",
        "        keras.layers.Dense(1, activation=\"sigmoid\"),\n",
        "    ]\n",
        ")\n",
        "model.summary()"
      ],
      "metadata": {
        "id": "qrVJoo_dH2du"
      },
      "execution_count": null,
      "outputs": []
    },
    {
      "cell_type": "code",
      "source": [
        "metrics = [\n",
        "    keras.metrics.FalseNegatives(name=\"fn\"),\n",
        "    keras.metrics.FalsePositives(name=\"fp\"),\n",
        "    keras.metrics.TrueNegatives(name=\"tn\"),\n",
        "    keras.metrics.TruePositives(name=\"tp\"),\n",
        "    keras.metrics.Precision(name=\"precision\"),\n",
        "    keras.metrics.Recall(name=\"recall\"),\n",
        "]\n",
        "\n",
        "model.compile(\n",
        "    optimizer=keras.optimizers.Adam(0.01), loss=\"binary_crossentropy\", metrics=metrics # El 0.01 es llamado \"learning rate\"\n",
        ")\n",
        "\n",
        "# Para poder guardar info del entranamiento\n",
        "callbacks = [keras.callbacks.ModelCheckpoint(\"fraud_model_at_epoch_{epoch}.h5\")]\n",
        "\n",
        "# Utilizada para asignar pesos que \"balanceen\" las clases\n",
        "class_weight = {0: weight_for_0, 1: weight_for_1}\n",
        "\n",
        "history = model.fit(\n",
        "    train_features,\n",
        "    train_targets,\n",
        "    batch_size=2048, # Cantidad de datos que optimizan pesos por cada pasada, \"batch size\"\n",
        "    epochs=30, # Cantidad de pasadas que dan todos los datos, para entrenamiento\n",
        "    verbose=2,\n",
        "    callbacks=callbacks,\n",
        "    validation_data=(val_features, val_targets), # Solo para medir como va avanzando el modelo, no utiliza estos datos para modificar pesos\n",
        "    class_weight=class_weight,\n",
        ")"
      ],
      "metadata": {
        "id": "L3alYb3lH2dv"
      },
      "execution_count": null,
      "outputs": []
    },
    {
      "cell_type": "code",
      "source": [
        "# Esta celda es ejecutada entrenando otra red nueva, en la que no habrá dropout\n",
        "fig = go.Figure()\n",
        "fig.add_trace(go.Scatter(y = history.history['loss'], name = 'loss'))\n",
        "fig.add_trace(go.Scatter(y = history.history['val_loss'], name = 'val_loss'))\n",
        "fig.update_layout(\n",
        "    title = 'Pérdida del modelo (sin capas de Dropout)',\n",
        "    xaxis_title = 'Época (epoch)',\n",
        "    yaxis_title = 'Pérdida (MSE)'\n",
        ")\n",
        "fig.show()"
      ],
      "metadata": {
        "id": "l7njJPPtdRfe"
      },
      "execution_count": null,
      "outputs": []
    },
    {
      "cell_type": "code",
      "source": [
        "tf.keras.utils.plot_model(\n",
        "    model,\n",
        "    #to_file=\"model.png\",\n",
        "    show_shapes=True,\n",
        "    show_dtype=False,\n",
        "    show_layer_names=True,\n",
        "    #dpi=96,\n",
        ")"
      ],
      "metadata": {
        "id": "jb_Am6LkfuqG"
      },
      "execution_count": null,
      "outputs": []
    },
    {
      "cell_type": "code",
      "source": [
        "# NO SALGA NOTACION CIENTIFICA\n",
        "np.set_printoptions(suppress=True)"
      ],
      "metadata": {
        "id": "BCPjOvodf2WX"
      },
      "execution_count": null,
      "outputs": []
    },
    {
      "cell_type": "code",
      "source": [
        "y_train_pred = model.predict(train_features)\n",
        "y_train_pred"
      ],
      "metadata": {
        "id": "xMSZk-TQ4p5E"
      },
      "execution_count": null,
      "outputs": []
    },
    {
      "cell_type": "code",
      "source": [
        "#y_train_pred = model.predict(train_features)\n",
        "y_train_pred[y_train_pred < 0.5] = 0\n",
        "y_train_pred[y_train_pred >= 0.5] = 1"
      ],
      "metadata": {
        "id": "VpjKDeemyyR5"
      },
      "execution_count": null,
      "outputs": []
    },
    {
      "cell_type": "code",
      "source": [
        "y_test_pred = model.predict(val_features)\n",
        "y_test_pred[y_test_pred < 0.5] = 0\n",
        "y_test_pred[y_test_pred >= 0.5] = 1"
      ],
      "metadata": {
        "id": "N5wnrKyvHUSa"
      },
      "execution_count": null,
      "outputs": []
    },
    {
      "cell_type": "code",
      "source": [
        "len(y_test_pred[:, 0])"
      ],
      "metadata": {
        "id": "7j-utPCXxdVh"
      },
      "execution_count": null,
      "outputs": []
    },
    {
      "cell_type": "code",
      "source": [
        "y_test_pred[:, 0].sum()"
      ],
      "metadata": {
        "id": "Kyi7Q_VCyXfP"
      },
      "execution_count": null,
      "outputs": []
    },
    {
      "cell_type": "code",
      "source": [
        "from sklearn.metrics import ConfusionMatrixDisplay\n",
        "import matplotlib.pyplot as plt"
      ],
      "metadata": {
        "id": "YWEa45ewynAx"
      },
      "execution_count": null,
      "outputs": []
    },
    {
      "cell_type": "code",
      "source": [
        "ConfusionMatrixDisplay.from_predictions(train_targets, y_train_pred, cmap=plt.cm.Greens)"
      ],
      "metadata": {
        "id": "A8pnRIIjyqOF"
      },
      "execution_count": null,
      "outputs": []
    },
    {
      "cell_type": "code",
      "source": [
        "# Recuperar \"pesos\" de los coeficientes en la epoca \"X\"\n",
        "# CUIDADO AL CORRER ESTA CELDA\n",
        "\n",
        "#model.load_weights(\"/content/fraud_model_at_epoch_25.h5\")"
      ],
      "metadata": {
        "id": "__GIroXqJvy9"
      },
      "execution_count": null,
      "outputs": []
    },
    {
      "cell_type": "code",
      "source": [
        "ConfusionMatrixDisplay.from_predictions(val_targets, y_test_pred, cmap=plt.cm.Greens)"
      ],
      "metadata": {
        "id": "5hoA_Ryf3LGE"
      },
      "execution_count": null,
      "outputs": []
    },
    {
      "cell_type": "code",
      "source": [
        "from sklearn.metrics import average_precision_score"
      ],
      "metadata": {
        "id": "G4FyL0lt1nwo"
      },
      "execution_count": null,
      "outputs": []
    },
    {
      "cell_type": "code",
      "source": [
        "y_test_prob = model.predict(val_features)"
      ],
      "metadata": {
        "id": "uLEe0C-b2y04"
      },
      "execution_count": null,
      "outputs": []
    },
    {
      "cell_type": "code",
      "source": [
        "y_test_prob"
      ],
      "metadata": {
        "id": "6rQH2yTel2_L"
      },
      "execution_count": null,
      "outputs": []
    },
    {
      "cell_type": "code",
      "source": [
        "auprc = average_precision_score(val_targets, y_test_prob)\n",
        "auprc"
      ],
      "metadata": {
        "id": "DykriQEB2rpT"
      },
      "execution_count": null,
      "outputs": []
    },
    {
      "cell_type": "code",
      "source": [
        "from sklearn.metrics import classification_report"
      ],
      "metadata": {
        "id": "_dqZX_4g5icp"
      },
      "execution_count": null,
      "outputs": []
    },
    {
      "cell_type": "code",
      "source": [
        "print(classification_report(train_targets, y_train_pred))"
      ],
      "metadata": {
        "id": "7P-RIboL6QRL"
      },
      "execution_count": null,
      "outputs": []
    },
    {
      "cell_type": "code",
      "source": [
        "print(classification_report(val_targets, y_test_pred))"
      ],
      "metadata": {
        "id": "dwGZ2E21K8Lj"
      },
      "execution_count": null,
      "outputs": []
    },
    {
      "cell_type": "code",
      "source": [
        "clase_1 = 500\n",
        "clase_2 = 280000"
      ],
      "metadata": {
        "id": "MpDvtQiYJd19"
      },
      "execution_count": null,
      "outputs": []
    },
    {
      "cell_type": "code",
      "source": [
        "clase_2/(clase_2 + clase_1)"
      ],
      "metadata": {
        "id": "YBE_bA53JhID"
      },
      "execution_count": null,
      "outputs": []
    },
    {
      "cell_type": "markdown",
      "source": [
        "# Ejercicios:\n",
        "\n",
        "* ¿Que sucedería con el modelo si no usamos el parámetro \"class_weight\"?\n",
        "\n",
        "* ¿Podemos recuperar solo la mejor época de nuestro entrenamiento?\n",
        "\n",
        "* ¿Porque la matriz de confusión no parece dar mucha luz sobre lo que ocurre?"
      ],
      "metadata": {
        "id": "oQhYiG1VzGA8"
      }
    },
    {
      "cell_type": "markdown",
      "source": [
        " - Cargar los datos utilizando Pandas\n",
        " - Realizar la división de entrenamiento y prueba usando la función 'train_test_split' de sklearn"
      ],
      "metadata": {
        "id": "IPu2R9xXxXk-"
      }
    },
    {
      "cell_type": "code",
      "source": [
        "# Código de ejercicio, puede crear mas celdas\n",
        "\n"
      ],
      "metadata": {
        "id": "oC8Vlpv_xX7V"
      },
      "execution_count": null,
      "outputs": []
    }
  ]
}